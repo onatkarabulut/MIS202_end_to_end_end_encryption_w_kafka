{
 "cells": [
  {
   "cell_type": "markdown",
   "metadata": {},
   "source": [
    "# Installation & Usage"
   ]
  },
  {
   "cell_type": "markdown",
   "metadata": {},
   "source": [
    "###### ====================================================================================="
   ]
  },
  {
   "cell_type": "markdown",
   "metadata": {},
   "source": [
    "#### Download Python Libraries"
   ]
  },
  {
   "cell_type": "code",
   "execution_count": null,
   "metadata": {},
   "outputs": [],
   "source": [
    "!pip install fastapi uvicorn confluent-kafka cryptography pydantic"
   ]
  },
  {
   "cell_type": "markdown",
   "metadata": {},
   "source": [
    "- After installing the libraries, run 'main.py' on a Linux terminal."
   ]
  },
  {
   "cell_type": "markdown",
   "metadata": {},
   "source": [
    "###### ====================================================================================="
   ]
  },
  {
   "cell_type": "markdown",
   "metadata": {},
   "source": [
    "### How It's Work?"
   ]
  },
  {
   "cell_type": "markdown",
   "metadata": {},
   "source": [
    "###### ====================================================================================="
   ]
  },
  {
   "cell_type": "markdown",
   "metadata": {},
   "source": [
    "#### Send Key Value Request & Receive Key Value"
   ]
  },
  {
   "cell_type": "code",
   "execution_count": 42,
   "metadata": {},
   "outputs": [
    {
     "name": "stdout",
     "output_type": "stream",
     "text": [
      "-----BEGIN PUBLIC KEY-----\n",
      "MIIBIjANBgkqhkiG9w0BAQEFAAOCAQ8AMIIBCgKCAQEAul9o+TsxnPZz9xaFEwOm\n",
      "8bebi2BZ3kPNMlHDTFhfjnEC7YOcGd0xCEsstMS0V1f7U+V52e63plLynG6aK7f7\n",
      "aFLWw+4L82CGFucUGfOX6wU69Ds8sFPJswC2YVUMWb/7kwMXBjjZm8eX8rsNe1ze\n",
      "ja+jFZkQYQvfDX50s+wqUJ0WDdMu/pZSBMvTd8swK+Wk062HmiqBzCgLEDxUDSM5\n",
      "27rVodobpG5uNMRBeb9In4dvPrhPWDwGkZ8a4wsxnELZdw9Hk4bbVqQMIqeO350M\n",
      "E8YqtuI+CrZC1+yD71mBbYEI2LFAo1hivMFbfctkNcf0oG4xhQ0iNxFZz+P7OPh0\n",
      "RwIDAQAB\n",
      "-----END PUBLIC KEY-----\n",
      "\n"
     ]
    }
   ],
   "source": [
    "import requests\n",
    "\n",
    "# Sunucu URL'si\n",
    "url = \"http://localhost:8000/get_public_key\"\n",
    "\n",
    "# GET isteği yapma\n",
    "response = requests.get(url)\n",
    "\n",
    "# Yanıt kontrolü\n",
    "if response.status_code == 200:\n",
    "    # Yanıt JSON formatında olduğundan yükle\n",
    "    data = response.json()\n",
    "    \n",
    "    # Kamu anahtarını al ve bir değişkene kaydet\n",
    "    public_key= data.get(\"public_key\")\n",
    "\n",
    "    # Kamu anahtarını kontrol edebilir ve olduğu gibi kullanabilirsiniz\n",
    "    print(public_key)\n",
    "    \n",
    "else:\n",
    "    # Yanıt başarısızsa, bir hata mesajı yazdırın\n",
    "    print(f\"Request failed: {response.status_code}\")"
   ]
  },
  {
   "cell_type": "markdown",
   "metadata": {},
   "source": [
    "###### ====================================================================================="
   ]
  },
  {
   "cell_type": "code",
   "execution_count": 49,
   "metadata": {},
   "outputs": [
    {
     "name": "stdout",
     "output_type": "stream",
     "text": [
      "Başarılı: {'status': 'success', 'message': 'Message sent'}\n"
     ]
    }
   ],
   "source": [
    "import requests\n",
    "\n",
    "# URL of the FastAPI server\n",
    "url = \"http://localhost:8000/send_message\"\n",
    "\n",
    "# Headers for POST request\n",
    "headers = {\n",
    "    \"Content-Type\": \"application/json\"\n",
    "}\n",
    "msg = input(\"Enter your message: \")\n",
    "\n",
    "# Data to send (in JSON format)\n",
    "data = {\n",
    "    \"recipient\": public_key,  # Send the public_key variable as is\n",
    "    \"message\": msg\n",
    "}\n",
    "\n",
    "# POST Request\n",
    "response = requests.post(url, headers=headers, json=data)\n",
    "\n",
    "# Check the response\n",
    "if response.status_code == 200:\n",
    "    print(\"Successful!:\", response.json())\n",
    "else:\n",
    "    print(\"Error:\", response.status_code, response.text)\n"
   ]
  },
  {
   "cell_type": "code",
   "execution_count": 50,
   "metadata": {},
   "outputs": [
    {
     "name": "stdout",
     "output_type": "stream",
     "text": [
      "Alınan mesaj: {'status': 'success', 'message': 'network'}\n"
     ]
    }
   ],
   "source": [
    "import requests\n",
    "\n",
    "# URL of the FastAPI server\n",
    "url = \"http://localhost:8000/receive_message\"\n",
    "\n",
    "# Make a GET request\n",
    "response = requests.get(url)\n",
    "\n",
    "# Check the response\n",
    "if response.status_code == 200:\n",
    "    # If the response is successful, receive the decrypted message\n",
    "    received_message = response.json()  # Parse the respons value because the response is in JSON format\n",
    "    print(\"Received Msg:\", received_message)\n",
    "else:\n",
    "    # If the response fails, print an error message\n",
    "    print(\"Error:\", response.status_code, response.text)\n"
   ]
  },
  {
   "cell_type": "markdown",
   "metadata": {},
   "source": [
    "###### ====================================================================================="
   ]
  }
 ],
 "metadata": {
  "kernelspec": {
   "display_name": "base",
   "language": "python",
   "name": "python3"
  },
  "language_info": {
   "codemirror_mode": {
    "name": "ipython",
    "version": 3
   },
   "file_extension": ".py",
   "mimetype": "text/x-python",
   "name": "python",
   "nbconvert_exporter": "python",
   "pygments_lexer": "ipython3",
   "version": "3.11.5"
  }
 },
 "nbformat": 4,
 "nbformat_minor": 2
}
