{
 "cells": [
  {
   "cell_type": "markdown",
   "metadata": {},
   "source": [
    "###### ====================================================================================="
   ]
  },
  {
   "cell_type": "markdown",
   "metadata": {},
   "source": [
    "# First Of All"
   ]
  },
  {
   "cell_type": "markdown",
   "metadata": {},
   "source": [
    "- Kafka & Python must be installed on your machine for these codes to work\n",
    "\n"
   ]
  },
  {
   "cell_type": "markdown",
   "metadata": {},
   "source": [
    "- To run Kafka and Zookeeper "
   ]
  },
  {
   "cell_type": "markdown",
   "metadata": {},
   "source": [
    "- Just a little reminder:\n",
    "    - To run the Kafka service, run the following commands in your terminal\n",
    "\n",
    "        - sudo systemctl start zookeeper\n",
    "        - sudo systemctl start kafka\n",
    "        - sudo systemctl status zookeeper\n",
    "        - sudo systemctl status kafka\n",
    "\n",
    "    - To stop the kafka services:\n",
    "        - sudo systemctl stop kafka\n",
    "        - sudo systemctl stop zookeeper\n"
   ]
  },
  {
   "cell_type": "markdown",
   "metadata": {},
   "source": [
    "###### ====================================================================================="
   ]
  },
  {
   "cell_type": "markdown",
   "metadata": {},
   "source": [
    "# Installation & Usage"
   ]
  },
  {
   "cell_type": "markdown",
   "metadata": {},
   "source": [
    "#### Download Python Libraries"
   ]
  },
  {
   "cell_type": "code",
   "execution_count": null,
   "metadata": {},
   "outputs": [],
   "source": [
    "!pip install fastapi uvicorn confluent-kafka cryptography pydantic"
   ]
  },
  {
   "cell_type": "markdown",
   "metadata": {},
   "source": [
    "- After installing the libraries, run 'main.py' on a Linux terminal."
   ]
  },
  {
   "cell_type": "markdown",
   "metadata": {},
   "source": [
    "###### ====================================================================================="
   ]
  },
  {
   "cell_type": "markdown",
   "metadata": {},
   "source": [
    "# How It's Work?"
   ]
  },
  {
   "cell_type": "markdown",
   "metadata": {},
   "source": [
    "#### Send Key Value Request & Receive Key Value"
   ]
  },
  {
   "cell_type": "code",
   "execution_count": 52,
   "metadata": {},
   "outputs": [
    {
     "name": "stdout",
     "output_type": "stream",
     "text": [
      "-----BEGIN PUBLIC KEY-----\n",
      "MIIBIjANBgkqhkiG9w0BAQEFAAOCAQ8AMIIBCgKCAQEAu4q4rkvFZpnY3LEwXD65\n",
      "6v5opfKPy31BQc3bTbq4/yaFH+kn9aCGXQIsRsuxYTXQ2mJw1q9KlZ/kwhNizDne\n",
      "m6ZOBlj5n0YejtvjjOmD/+bA2g+e3OIowb8DHVdfFzrwZ8/IoOeDS9ug+cPcKQK/\n",
      "CK0kV7Id/vw0IOR0X91DCWzETgIgWn6F8WM7mgGHnGIXMlQV578V63mu2eunQekI\n",
      "2niJbDrjiarjqlfigNbcDKyvd4CLi+K+HHzLInjfR/WTznTfc2lXPLDNKEFqKwLr\n",
      "sI01snxt2xWGBJrpUEDPKUCjbZ1Tl9ClnqhGFaZRNJZ7cysrD6KRZKrqcd9XTwB6\n",
      "LwIDAQAB\n",
      "-----END PUBLIC KEY-----\n",
      "\n"
     ]
    }
   ],
   "source": [
    "import requests\n",
    "\n",
    "url = \"http://localhost:8000/get_public_key\"\n",
    "\n",
    "response = requests.get(url)\n",
    "\n",
    "if response.status_code == 200:\n",
    "    data = response.json()\n",
    "    \n",
    "    public_key= data.get(\"public_key\")\n",
    "\n",
    "    print(public_key)\n",
    "    \n",
    "else:\n",
    "    print(f\"Request failed: {response.status_code}\")"
   ]
  },
  {
   "cell_type": "code",
   "execution_count": 55,
   "metadata": {},
   "outputs": [
    {
     "name": "stdout",
     "output_type": "stream",
     "text": [
      "Successful!: {'status': 'success', 'message': 'Message sent'}\n"
     ]
    }
   ],
   "source": [
    "import requests\n",
    "\n",
    "url = \"http://localhost:8000/send_message\"\n",
    "\n",
    "headers = {\n",
    "    \"Content-Type\": \"application/json\"\n",
    "}\n",
    "\n",
    "data = {\n",
    "    \"recipient\": public_key,  \n",
    "    \"message\": \"Welcome to MIS_202!\"\n",
    "}\n",
    "\n",
    "response = requests.post(url, headers=headers, json=data)\n",
    "\n",
    "if response.status_code == 200:\n",
    "    print(\"Successful!:\", response.json())\n",
    "else:\n",
    "    print(\"Error:\", response.status_code, response.text)\n"
   ]
  },
  {
   "cell_type": "code",
   "execution_count": 56,
   "metadata": {},
   "outputs": [
    {
     "name": "stdout",
     "output_type": "stream",
     "text": [
      "Received Msg: {'status': 'success', 'message': 'Welcome to MIS_202!'}\n"
     ]
    }
   ],
   "source": [
    "import requests\n",
    "\n",
    "url = \"http://localhost:8000/receive_message\"\n",
    "\n",
    "response = requests.get(url)\n",
    "\n",
    "if response.status_code == 200:\n",
    "    received_message = response.json()  \n",
    "    print(\"Received Msg:\", received_message)\n",
    "else:\n",
    "    print(\"Error:\", response.status_code, response.text)\n"
   ]
  },
  {
   "cell_type": "markdown",
   "metadata": {},
   "source": [
    "###### ====================================================================================="
   ]
  }
 ],
 "metadata": {
  "kernelspec": {
   "display_name": "base",
   "language": "python",
   "name": "python3"
  },
  "language_info": {
   "codemirror_mode": {
    "name": "ipython",
    "version": 3
   },
   "file_extension": ".py",
   "mimetype": "text/x-python",
   "name": "python",
   "nbconvert_exporter": "python",
   "pygments_lexer": "ipython3",
   "version": "3.11.5"
  }
 },
 "nbformat": 4,
 "nbformat_minor": 2
}
