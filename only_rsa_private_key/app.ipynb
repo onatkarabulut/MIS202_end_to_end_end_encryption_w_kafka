{
 "cells": [
  {
   "cell_type": "markdown",
   "metadata": {},
   "source": [
    "###### ====================================================================================="
   ]
  },
  {
   "cell_type": "markdown",
   "metadata": {},
   "source": [
    "# First Of All"
   ]
  },
  {
   "cell_type": "markdown",
   "metadata": {},
   "source": [
    "- Kafka & Python must be installed on your machine for these codes to work\n",
    "\n"
   ]
  },
  {
   "cell_type": "markdown",
   "metadata": {},
   "source": [
    "- To run Kafka and Zookeeper "
   ]
  },
  {
   "cell_type": "markdown",
   "metadata": {},
   "source": [
    "- Just a little reminder:\n",
    "    - To run the Kafka service, run the following commands in your terminal\n",
    "\n",
    "        - sudo systemctl start zookeeper\n",
    "        - sudo systemctl start kafka\n",
    "        - sudo systemctl status zookeeper\n",
    "        - sudo systemctl status kafka\n",
    "\n",
    "    - To stop the kafka services:\n",
    "        - sudo systemctl stop kafka\n",
    "        - sudo systemctl stop zookeeper\n"
   ]
  },
  {
   "cell_type": "markdown",
   "metadata": {},
   "source": [
    "###### ====================================================================================="
   ]
  },
  {
   "cell_type": "markdown",
   "metadata": {},
   "source": [
    "# Installation & Usage"
   ]
  },
  {
   "cell_type": "markdown",
   "metadata": {},
   "source": [
    "#### Download Python Libraries"
   ]
  },
  {
   "cell_type": "code",
   "execution_count": null,
   "metadata": {},
   "outputs": [],
   "source": [
    "!pip install fastapi uvicorn confluent-kafka cryptography pydantic"
   ]
  },
  {
   "cell_type": "markdown",
   "metadata": {},
   "source": [
    "- After installing the libraries, run 'main.py' on a Linux terminal."
   ]
  },
  {
   "cell_type": "markdown",
   "metadata": {},
   "source": [
    "###### ====================================================================================="
   ]
  },
  {
   "cell_type": "markdown",
   "metadata": {},
   "source": [
    "# How It's Work?"
   ]
  },
  {
   "cell_type": "markdown",
   "metadata": {},
   "source": [
    "#### Send Key Value Request & Receive Key Value"
   ]
  },
  {
   "cell_type": "code",
   "execution_count": 2,
   "metadata": {},
   "outputs": [
    {
     "name": "stdout",
     "output_type": "stream",
     "text": [
      "-----BEGIN PUBLIC KEY-----\n",
      "MIIBIjANBgkqhkiG9w0BAQEFAAOCAQ8AMIIBCgKCAQEAzIN16a28KCHtyJAhJbY1\n",
      "CodLrYH64yQuXjD+kZKaukyi4ViAAeI6sNAJHgeL9+svsfEidKmAjehzqOk3oDbU\n",
      "hluYMB/OSntKVd11yd3cP56k18Xz5g/uwtZJQ+9p8G/Yxp8jV8cdw+45HSK4LQgS\n",
      "iy69IfrJRQ5nTJ+5W03tZwbX5gC+oZgDvgYJnIte7HA3WMuUrvzlKjBU/LpLvkXa\n",
      "+XSWe47hcGSPR4Ce4GY3+MZuMQ4+g/eKeiEYJj6wBmTIbMWdJiAmY+ZyquK7uqEc\n",
      "zGQhbI/2p7jy0rs4cBOoYdSenybssOKOz8a0Q1QtHEO3QK89xve1g9hD81UrTqhz\n",
      "ZwIDAQAB\n",
      "-----END PUBLIC KEY-----\n",
      "\n"
     ]
    }
   ],
   "source": [
    "import requests\n",
    "\n",
    "url = \"http://localhost:8000/get_public_key\"\n",
    "\n",
    "response = requests.get(url)\n",
    "\n",
    "if response.status_code == 200:\n",
    "    data = response.json()\n",
    "    \n",
    "    public_key= data.get(\"public_key\")\n",
    "\n",
    "    print(public_key)\n",
    "    \n",
    "else:\n",
    "    print(f\"Request failed: {response.status_code}\")"
   ]
  },
  {
   "cell_type": "code",
   "execution_count": 3,
   "metadata": {},
   "outputs": [
    {
     "name": "stdout",
     "output_type": "stream",
     "text": [
      "Successful!: {'status': 'success', 'message': 'Message sent'}\n"
     ]
    }
   ],
   "source": [
    "import requests\n",
    "\n",
    "url = \"http://localhost:8000/send_message\"\n",
    "\n",
    "headers = {\n",
    "    \"Content-Type\": \"application/json\"\n",
    "}\n",
    "\n",
    "data = {\n",
    "    \"recipient\": public_key,  \n",
    "    \"message\": \"Welcome to MIS_202!\"\n",
    "}\n",
    "\n",
    "response = requests.post(url, headers=headers, json=data)\n",
    "\n",
    "if response.status_code == 200:\n",
    "    print(\"Successful!:\", response.json())\n",
    "else:\n",
    "    print(\"Error:\", response.status_code, response.text)\n"
   ]
  },
  {
   "cell_type": "code",
   "execution_count": 4,
   "metadata": {},
   "outputs": [
    {
     "name": "stdout",
     "output_type": "stream",
     "text": [
      "Received Msg: {'status': 'success', 'message': 'Welcome to MIS_202!'}\n"
     ]
    }
   ],
   "source": [
    "import requests\n",
    "\n",
    "url = \"http://localhost:8000/receive_message\"\n",
    "\n",
    "response = requests.get(url)\n",
    "\n",
    "if response.status_code == 200:\n",
    "    received_message = response.json()  \n",
    "    print(\"Received Msg:\", received_message)\n",
    "else:\n",
    "    print(\"Error:\", response.status_code, response.text)\n"
   ]
  },
  {
   "cell_type": "markdown",
   "metadata": {},
   "source": [
    "###### ====================================================================================="
   ]
  }
 ],
 "metadata": {
  "kernelspec": {
   "display_name": "base",
   "language": "python",
   "name": "python3"
  },
  "language_info": {
   "codemirror_mode": {
    "name": "ipython",
    "version": 3
   },
   "file_extension": ".py",
   "mimetype": "text/x-python",
   "name": "python",
   "nbconvert_exporter": "python",
   "pygments_lexer": "ipython3",
   "version": "3.11.5"
  }
 },
 "nbformat": 4,
 "nbformat_minor": 2
}
