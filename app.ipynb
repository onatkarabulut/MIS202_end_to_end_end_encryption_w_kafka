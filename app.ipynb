{
 "cells": [
  {
   "cell_type": "markdown",
   "metadata": {},
   "source": [
    "###### ====================================================================================="
   ]
  },
  {
   "cell_type": "markdown",
   "metadata": {},
   "source": [
    "# First Of All"
   ]
  },
  {
   "cell_type": "markdown",
   "metadata": {},
   "source": [
    "- Kafka & Python must be installed on your machine for these codes to work\n",
    "\n"
   ]
  },
  {
   "cell_type": "markdown",
   "metadata": {},
   "source": [
    "- To run Kafka and Zookeeper "
   ]
  },
  {
   "cell_type": "markdown",
   "metadata": {},
   "source": [
    "- Just a little reminder:\n",
    "    - To run the Kafka service, run the following commands in your terminal\n",
    "\n",
    "        - sudo systemctl start zookeeper\n",
    "        - sudo systemctl start kafka\n",
    "        - sudo systemctl status zookeeper\n",
    "        - sudo systemctl status kafka\n",
    "\n",
    "    - To stop the kafka services:\n",
    "        - sudo systemctl stop kafka\n",
    "        - sudo systemctl stop zookeeper\n"
   ]
  },
  {
   "cell_type": "markdown",
   "metadata": {},
   "source": [
    "###### ====================================================================================="
   ]
  },
  {
   "cell_type": "markdown",
   "metadata": {},
   "source": [
    "# Installation & Usage"
   ]
  },
  {
   "cell_type": "markdown",
   "metadata": {},
   "source": [
    "#### Download Python Libraries"
   ]
  },
  {
   "cell_type": "code",
   "execution_count": null,
   "metadata": {},
   "outputs": [],
   "source": [
    "!pip install fastapi uvicorn confluent-kafka cryptography pydantic"
   ]
  },
  {
   "cell_type": "markdown",
   "metadata": {},
   "source": [
    "- After installing the libraries, run 'main.py' on a Linux terminal."
   ]
  },
  {
   "cell_type": "markdown",
   "metadata": {},
   "source": [
    "###### ====================================================================================="
   ]
  },
  {
   "cell_type": "markdown",
   "metadata": {},
   "source": [
    "# How It's Work?"
   ]
  },
  {
   "cell_type": "markdown",
   "metadata": {},
   "source": [
    "#### Send Key Value Request & Receive Key Value"
   ]
  },
  {
   "cell_type": "code",
   "execution_count": 5,
   "metadata": {},
   "outputs": [
    {
     "name": "stdout",
     "output_type": "stream",
     "text": [
      "-----BEGIN PUBLIC KEY-----\n",
      "MIIBIjANBgkqhkiG9w0BAQEFAAOCAQ8AMIIBCgKCAQEAotLkbQe6LoSsTRSZlpCS\n",
      "IVskCzw8Y5PB7FJ0OhYSthb9OSYe4PlvB2UCSlrh+D6QfekxbN7wFYcm1ormiYPC\n",
      "FldFlM/54ekDRegxhZRmOp6C+eewyx9MjlBG5nFjo5Vev3T/vYxYtZIryAJKHV/z\n",
      "JDXLGrjviem/lFehLAT4CIc7UXySRyIYUX9TV2s+Ihhw26Oxw1Z0afBNA4yaUFYL\n",
      "xk9YCYiCulntBn61CCnxbUzEk4FyIT5TakGwh2Y+s7BXDZqmany22I54L9w2tuwB\n",
      "hUBZma2LTk8+4AV+3gTqveRzHZKy+rWPDlvEOmQKF/U0+437Dv3XTBfa6YsmMuKh\n",
      "+QIDAQAB\n",
      "-----END PUBLIC KEY-----\n",
      "\n"
     ]
    }
   ],
   "source": [
    "import requests\n",
    "\n",
    "url = \"http://localhost:8000/get_public_key\"\n",
    "\n",
    "response = requests.get(url)\n",
    "\n",
    "if response.status_code == 200:\n",
    "    data = response.json()\n",
    "    \n",
    "    public_key= data.get(\"public_key\")\n",
    "\n",
    "    print(public_key)\n",
    "    \n",
    "else:\n",
    "    print(f\"Request failed: {response.status_code}\")"
   ]
  },
  {
   "cell_type": "code",
   "execution_count": 9,
   "metadata": {},
   "outputs": [
    {
     "name": "stdout",
     "output_type": "stream",
     "text": [
      "Successful!: {'status': 'success', 'message': 'Message sent'}\n"
     ]
    }
   ],
   "source": [
    "import requests\n",
    "\n",
    "url = \"http://localhost:8000/send_message\"\n",
    "\n",
    "headers = {\n",
    "    \"Content-Type\": \"application/json\"\n",
    "}\n",
    "\n",
    "data = {\n",
    "    \"recipient\": public_key,  \n",
    "    \"message\": \"Welcome to MIS_202!\"\n",
    "}\n",
    "\n",
    "response = requests.post(url, headers=headers, json=data)\n",
    "\n",
    "if response.status_code == 200:\n",
    "    print(\"Successful!:\", response.json())\n",
    "else:\n",
    "    print(\"Error:\", response.status_code, response.text)\n"
   ]
  },
  {
   "cell_type": "code",
   "execution_count": 11,
   "metadata": {},
   "outputs": [
    {
     "name": "stdout",
     "output_type": "stream",
     "text": [
      "Received Msg: {'status': 'success', 'message': 'Welcome to MIS_202!'}\n"
     ]
    }
   ],
   "source": [
    "import requests\n",
    "\n",
    "url = \"http://localhost:8000/receive_message\"\n",
    "\n",
    "response = requests.get(url)\n",
    "\n",
    "if response.status_code == 200:\n",
    "    received_message = response.json()  \n",
    "    print(\"Received Msg:\", received_message)\n",
    "else:\n",
    "    print(\"Error:\", response.status_code, response.text)\n"
   ]
  },
  {
   "cell_type": "markdown",
   "metadata": {},
   "source": [
    "###### ====================================================================================="
   ]
  }
 ],
 "metadata": {
  "kernelspec": {
   "display_name": "base",
   "language": "python",
   "name": "python3"
  },
  "language_info": {
   "codemirror_mode": {
    "name": "ipython",
    "version": 3
   },
   "file_extension": ".py",
   "mimetype": "text/x-python",
   "name": "python",
   "nbconvert_exporter": "python",
   "pygments_lexer": "ipython3",
   "version": "3.11.5"
  }
 },
 "nbformat": 4,
 "nbformat_minor": 2
}
